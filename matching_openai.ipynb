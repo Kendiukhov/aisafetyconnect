{
 "cells": [
  {
   "cell_type": "code",
   "execution_count": 1,
   "id": "6f9b5b28",
   "metadata": {},
   "outputs": [],
   "source": [
    "from username_searcher import UsernameSearch"
   ]
  },
  {
   "cell_type": "code",
   "execution_count": 2,
   "id": "ee0b4f13",
   "metadata": {},
   "outputs": [],
   "source": [
    "search_client = UsernameSearch(3600)"
   ]
  },
  {
   "cell_type": "code",
   "execution_count": 3,
   "id": "f8779bf9",
   "metadata": {},
   "outputs": [],
   "source": [
    "test_search = \"\"\"\n",
    "  {\n",
    "    \"userId\": \"mfgrYb4LMk7NWXsSB\",\n",
    "    \"username\": \"tailcalled\",\n",
    "    \"displayName\": \"tailcalled\",\n",
    "    \"karma\": 7887,\n",
    "    \"afKarma\": 77,\n",
    "    \"ai_safety_tags\": [\n",
    "      \"MIRI\"\n",
    "    ],\n",
    "    \"post_count_in_ai_safety\": 1,\n",
    "    \"_id\": \"mfgrYb4LMk7NWXsSB\",\n",
    "    \"slug\": \"tailcalled\",\n",
    "    \"bio\": \"\",\n",
    "    \"jobTitle\": null,\n",
    "    \"organization\": null,\n",
    "    \"careerStage\": null,\n",
    "    \"website\": null,\n",
    "    \"linkedinProfileURL\": null,\n",
    "    \"githubProfileURL\": null,\n",
    "    \"twitterProfileURL\": null,\n",
    "    \"postCount\": 107,\n",
    "    \"commentCount\": 2411,\n",
    "    \"createdAt\": \"2015-01-27T20:50:11.327Z\",\n",
    "    \"profileTagIds\": []\n",
    "  },\n",
    "\"\"\""
   ]
  },
  {
   "cell_type": "code",
   "execution_count": 4,
   "id": "4e1a3303",
   "metadata": {},
   "outputs": [
    {
     "name": "stdout",
     "output_type": "stream",
     "text": [
      "starting search for user \n",
      "  {\n",
      "    \"userId\": \"mfgrYb4LMk7NWXsSB\",\n",
      "    \"username\": \"tailcalled\",\n",
      "    \"displayName\": \"tailcalled\",\n",
      "    \"karma\": 7887,\n",
      "    \"afKarma\": 77,\n",
      "    \"ai_safety_tags\": [\n",
      "      \"MIRI\"\n",
      "    ],\n",
      "    \"post_count_in_ai_safety\": 1,\n",
      "    \"_id\": \"mfgrYb4LMk7NWXsSB\",\n",
      "    \"slug\": \"tailcalled\",\n",
      "    \"bio\": \"\",\n",
      "    \"jobTitle\": null,\n",
      "    \"organization\": null,\n",
      "    \"careerStage\": null,\n",
      "    \"website\": null,\n",
      "    \"linkedinProfileURL\": null,\n",
      "    \"githubProfileURL\": null,\n",
      "    \"twitterProfileURL\": null,\n",
      "    \"postCount\": 107,\n",
      "    \"commentCount\": 2411,\n",
      "    \"createdAt\": \"2015-01-27T20:50:11.327Z\",\n",
      "    \"profileTagIds\": []\n",
      "  },\n",
      ", queued with id = resp_04e58a7fb749d8880068f078c2fe4481969116cd7f3799f5c0\n"
     ]
    }
   ],
   "source": [
    "search_client.start_user_search(test_search)"
   ]
  },
  {
   "cell_type": "code",
   "execution_count": 17,
   "id": "37ba600f",
   "metadata": {},
   "outputs": [
    {
     "data": {
      "text/plain": [
       "'job id = resp_04e58a7fb749d8880068f078c2fe4481969116cd7f3799f5c0 not completed, status is failed'"
      ]
     },
     "execution_count": 17,
     "metadata": {},
     "output_type": "execute_result"
    }
   ],
   "source": [
    "search_client.show_last_search_response()"
   ]
  },
  {
   "cell_type": "code",
   "execution_count": 16,
   "id": "40c3c8aa",
   "metadata": {},
   "outputs": [
    {
     "name": "stdout",
     "output_type": "stream",
     "text": [
      "job id = resp_04e58a7fb749d8880068f078c2fe4481969116cd7f3799f5c0 not completed, status is failed\n"
     ]
    }
   ],
   "source": [
    "print(search_client.show_last_search_response())"
   ]
  },
  {
   "cell_type": "code",
   "execution_count": null,
   "id": "84f7450f",
   "metadata": {},
   "outputs": [],
   "source": []
  }
 ],
 "metadata": {
  "kernelspec": {
   "display_name": "nlp",
   "language": "python",
   "name": "python3"
  },
  "language_info": {
   "codemirror_mode": {
    "name": "ipython",
    "version": 3
   },
   "file_extension": ".py",
   "mimetype": "text/x-python",
   "name": "python",
   "nbconvert_exporter": "python",
   "pygments_lexer": "ipython3",
   "version": "3.13.5"
  }
 },
 "nbformat": 4,
 "nbformat_minor": 5
}
