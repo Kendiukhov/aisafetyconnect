{
 "cells": [
  {
   "cell_type": "code",
   "execution_count": null,
   "id": "6f9b5b28",
   "metadata": {},
   "outputs": [],
   "source": [
    "from username_searcher import UsernameSearch\n",
    "import logging\n",
    "\n",
    "# Configurar el nivel de logging\n",
    "logging.basicConfig(\n",
    "    level=logging.DEBUG,  # Cambia a INFO, WARNING, o ERROR según necesites\n",
    "    format='%(asctime)s - %(name)s - %(levelname)s - %(message)s'\n",
    ")"
   ]
  },
  {
   "cell_type": "code",
   "execution_count": null,
   "id": "ee0b4f13",
   "metadata": {},
   "outputs": [],
   "source": [
    "search_client = UsernameSearch(3600)"
   ]
  },
  {
   "cell_type": "code",
   "execution_count": null,
   "id": "f8779bf9",
   "metadata": {},
   "outputs": [],
   "source": [
    "test_search = \"\"\"\n",
    "  {\n",
    "    \"userId\": \"mfgrYb4LMk7NWXsSB\",\n",
    "    \"username\": \"tailcalled\",\n",
    "    \"displayName\": \"tailcalled\",\n",
    "    \"karma\": 7887,\n",
    "    \"afKarma\": 77,\n",
    "    \"ai_safety_tags\": [\n",
    "      \"MIRI\"\n",
    "    ],\n",
    "    \"post_count_in_ai_safety\": 1,\n",
    "    \"_id\": \"mfgrYb4LMk7NWXsSB\",\n",
    "    \"slug\": \"tailcalled\",\n",
    "    \"bio\": \"\",\n",
    "    \"jobTitle\": null,\n",
    "    \"organization\": null,\n",
    "    \"careerStage\": null,\n",
    "    \"website\": null,\n",
    "    \"linkedinProfileURL\": null,\n",
    "    \"githubProfileURL\": null,\n",
    "    \"twitterProfileURL\": null,\n",
    "    \"postCount\": 107,\n",
    "    \"commentCount\": 2411,\n",
    "    \"createdAt\": \"2015-01-27T20:50:11.327Z\",\n",
    "    \"profileTagIds\": []\n",
    "  },\n",
    "\"\"\""
   ]
  },
  {
   "cell_type": "code",
   "execution_count": null,
   "id": "4e1a3303",
   "metadata": {},
   "outputs": [],
   "source": [
    "search_client.start_user_search(test_search)"
   ]
  },
  {
   "cell_type": "code",
   "execution_count": null,
   "id": "37ba600f",
   "metadata": {},
   "outputs": [],
   "source": [
    "search_client.show_last_search_response()"
   ]
  },
  {
   "cell_type": "code",
   "execution_count": null,
   "id": "84f7450f",
   "metadata": {},
   "outputs": [],
   "source": [
    "retrieved_response = search_client.client.responses.retrieve(search_client.last_search_id)\n",
    "print(\"Status:\", retrieved_response.status)\n",
    "print(\"Dir:\", dir(retrieved_response))\n",
    "print(\"Full object:\", vars(retrieved_response))"
   ]
  }
 ],
 "metadata": {
  "kernelspec": {
   "display_name": "aisafetyconnect",
   "language": "python",
   "name": "python3"
  },
  "language_info": {
   "codemirror_mode": {
    "name": "ipython",
    "version": 3
   },
   "file_extension": ".py",
   "mimetype": "text/x-python",
   "name": "python",
   "nbconvert_exporter": "python",
   "pygments_lexer": "ipython3",
   "version": "3.13.7"
  }
 },
 "nbformat": 4,
 "nbformat_minor": 5
}
