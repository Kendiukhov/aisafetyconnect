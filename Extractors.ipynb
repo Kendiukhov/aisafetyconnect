{
 "cells": [
  {
   "cell_type": "markdown",
   "id": "5846539f",
   "metadata": {},
   "source": [
    "Mapping Academia\n",
    "\n",
    "Inputs:\n",
    "\n",
    "    • researcher: id, name, affiliation, country, email, URLs (ORCID, Scholar, homepage), keywords\n",
    "    • publication: id, title, year, venue, doi/url, citations, abstract, keywords, researcher_id\n",
    "    • taxonomy: entity_id (publication/project), taxonomy_node, score\n",
    "\n",
    "Architecture Considerations\n",
    "\t•\tStorage: PostgreSQL for structured data, jsonb for flexible metadata.\n",
    "\t•\tSnapshots: store each ingestion as versioned JSON (locally or in S3 later).\n",
    "\n",
    "Privacy and Compliance\n",
    "    •Respect Google, OPEN ALEX and Semantic Scholar terms.\n",
    "Goal\n",
    "    Minimal/zero maintenance through automation and monitoring\n",
    "Resilience\n",
    "    Handle API changes, rate limits, or broken scrapers gracefully\n",
    "Scalability\n",
    "    Infrastructure designed to add new sources easily\n",
    "\n"
   ]
  },
  {
   "cell_type": "markdown",
   "id": "6ff5e3f2",
   "metadata": {},
   "source": [
    "**Scholarly**\n",
    "Scholarly is a Python library that provides an unofficial interface to Google Scholar, allowing you to programmatically retrieve publication data, author profiles, and citation metrics\n",
    "It works by web scraping Google Scholar's HTML pages - it's not an official API, which makes it fragile and subject to blocking\n",
    "Google Scholar's anti-bot measures:\n",
    "\n",
    "Aggressive blocking after ~10-20 requests without delays\n",
    "IP-based blocking (temporary or long-term bans)\n",
    "CAPTCHA challenges when suspicious activity detected\n",
    "Blocks intensify with burst requests\n",
    "\n",
    "\n",
    "Recommended practices:\n",
    "\n",
    "Minimum 5-10 seconds delay between requests (use time.sleep())\n",
    "Random delays (e.g., 5-15 seconds) to simulate human behavior\n",
    "Maximum ~100 requests per hour per IP without proxy rotation\n",
    "Use proxies for any serious scraping operation\n",
    "\n",
    "Best practices:\n",
    "\n",
    "Respect robots.txt (though Scholarly bypasses it)\n",
    "Don't overload Google's servers\n",
    "Consider alternative official APIs first (Semantic Scholar-Open Alex)\n",
    "Use for research/education, not commercial resale\n",
    "\n",
    "\n",
    "\n"
   ]
  },
  {
   "cell_type": "markdown",
   "id": "e35482b3",
   "metadata": {},
   "source": [
    "The scholarly extractor is functional but has inherent limitations due to:\n",
    "- Unofficial nature of Google Scholar API\n",
    "- Rate limiting and bot detection\n",
    "- Truncated data in basic results\n"
   ]
  }
 ],
 "metadata": {
  "language_info": {
   "name": "python"
  }
 },
 "nbformat": 4,
 "nbformat_minor": 5
}
